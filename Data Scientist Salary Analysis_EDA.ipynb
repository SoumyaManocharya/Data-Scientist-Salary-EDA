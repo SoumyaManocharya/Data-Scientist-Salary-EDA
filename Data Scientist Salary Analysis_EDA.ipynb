{
 "cells": [
  {
   "cell_type": "markdown",
   "id": "18163682",
   "metadata": {},
   "source": [
    "# EDA(Exploratory Data Analysis)"
   ]
  },
  {
   "cell_type": "markdown",
   "id": "977115aa",
   "metadata": {},
   "source": [
    "EDA on Salary of Data Scientist "
   ]
  },
  {
   "cell_type": "code",
   "execution_count": null,
   "id": "cea6f77e",
   "metadata": {},
   "outputs": [],
   "source": [
    "# Importing libraries\n",
    "\n",
    "import pandas as pd\n",
    "import numpy as np\n",
    "import matplotlib.pyplot as plt\n",
    "import seaborn as sns\n",
    "%matplotlib inline"
   ]
  },
  {
   "cell_type": "code",
   "execution_count": null,
   "id": "94040735",
   "metadata": {},
   "outputs": [],
   "source": [
    "# Import Data set\n",
    "\n",
    "data = pd.read_csv(\"Data Science Jobs Salaries.csv\")"
   ]
  },
  {
   "cell_type": "code",
   "execution_count": null,
   "id": "b5c6b914",
   "metadata": {},
   "outputs": [],
   "source": [
    "# Read first 10 records\n",
    "\n",
    "data.head(10)"
   ]
  },
  {
   "cell_type": "code",
   "execution_count": null,
   "id": "838d9abd",
   "metadata": {},
   "outputs": [],
   "source": [
    "# Last 10 records\n",
    "\n",
    "data.head(10)"
   ]
  },
  {
   "cell_type": "code",
   "execution_count": null,
   "id": "a53fa179",
   "metadata": {},
   "outputs": [],
   "source": [
    "# Data size\n",
    "\n",
    "data.shape"
   ]
  },
  {
   "cell_type": "code",
   "execution_count": null,
   "id": "eb8f5e54",
   "metadata": {},
   "outputs": [],
   "source": [
    "# How the Data looks like\n",
    "\n",
    "data.info()"
   ]
  },
  {
   "cell_type": "code",
   "execution_count": null,
   "id": "d96eb61b",
   "metadata": {},
   "outputs": [],
   "source": [
    "# Checking any missing values\n",
    "\n",
    "data.isnull().sum()"
   ]
  },
  {
   "cell_type": "code",
   "execution_count": null,
   "id": "2c8852d5",
   "metadata": {},
   "outputs": [],
   "source": [
    "# Describe the Dataset\n",
    "\n",
    "data.describe()"
   ]
  },
  {
   "cell_type": "code",
   "execution_count": null,
   "id": "647bd0fb",
   "metadata": {},
   "outputs": [],
   "source": [
    "# Columns\n",
    "\n",
    "data.columns"
   ]
  },
  {
   "cell_type": "code",
   "execution_count": null,
   "id": "a4043800",
   "metadata": {},
   "outputs": [],
   "source": [
    "table = pd.pivot_table(data, values='salary_in_usd', \n",
    "                   columns=['experience_level'],\n",
    "                   index= ['job_title'],\n",
    "                   aggfunc= np.median\n",
    "                  )\n",
    "data_jt = pd.DataFrame(table)\n",
    "data_jt"
   ]
  },
  {
   "cell_type": "markdown",
   "id": "d7bca859",
   "metadata": {},
   "source": [
    "# 1. Mean salary by each level of experience"
   ]
  },
  {
   "cell_type": "code",
   "execution_count": null,
   "id": "48283d02",
   "metadata": {},
   "outputs": [],
   "source": [
    "plt.style.use(\"seaborn-whitegrid\")\n",
    "arr = np.array(data.groupby('experience_level').salary.median())\n",
    "\n",
    "exp_lev = np.array(['EN','EX','MI','SE'])\n",
    "\n",
    "fig, ax = plt.subplots()\n",
    "\n",
    "ax.bar(exp_lev,arr)\n",
    "ax.set_title(\"Mean salary by each experience level\",fontdict={'size':16,'color':'red'})\n",
    "ax.set_xlabel(\"Experience level\",fontdict={'size':13,'color':'red'})\n",
    "ax.set_ylabel(\"Salary\",fontdict={'size':13,'color':'red'})\n",
    "ax.grid()\n",
    "\n",
    "fig.set_size_inches(8,8)\n",
    "plt.show()"
   ]
  },
  {
   "cell_type": "code",
   "execution_count": null,
   "id": "a8114454",
   "metadata": {},
   "outputs": [],
   "source": [
    "# Insights:\n",
    "\n",
    "'''In above plot we can know what is the avearge salary is being paid to by expereince level of employees.\n",
    "\n",
    "We can see that EX (Executives) are having highest mean salary'''"
   ]
  },
  {
   "cell_type": "markdown",
   "id": "d6278de5",
   "metadata": {},
   "source": [
    "# 2. Distribution curve of salary in USD"
   ]
  },
  {
   "cell_type": "code",
   "execution_count": null,
   "id": "29a07c2b",
   "metadata": {},
   "outputs": [],
   "source": [
    "g = sns.displot(data=data, x='salary_in_usd', kind='kde', legend=True)\n",
    "plt.title('Distribution of salary in USD')\n",
    "g.fig.set_figwidth(10)\n",
    "g.fig.set_figheight(6)"
   ]
  },
  {
   "cell_type": "markdown",
   "id": "5f500311",
   "metadata": {},
   "source": [
    "# 3. Histogram of salary in USD\n"
   ]
  },
  {
   "cell_type": "code",
   "execution_count": null,
   "id": "25624179",
   "metadata": {},
   "outputs": [],
   "source": [
    "g = sns.displot(x=data['salary_in_usd'], data=data, kde=True)\n",
    "plt.title('Distribution of salary in USD')\n",
    "g.fig.set_figwidth(10)\n",
    "g.fig.set_figheight(6)"
   ]
  },
  {
   "cell_type": "code",
   "execution_count": null,
   "id": "98c73ed1",
   "metadata": {},
   "outputs": [],
   "source": [
    "# Insights:\n",
    "\n",
    "'''Above distritbution plots show us how salaries in USD is dstributed from lowest to highest salaries.\n",
    "\n",
    "As you can see there is only a salary which as high as 600k while most of them is around 80-90k.'''"
   ]
  },
  {
   "cell_type": "markdown",
   "id": "cacb232e",
   "metadata": {},
   "source": [
    "# 4. Experience level VS. Remote ratio\n"
   ]
  },
  {
   "cell_type": "code",
   "execution_count": null,
   "id": "8ac984d5",
   "metadata": {},
   "outputs": [],
   "source": [
    "g = sns.catplot(x='experience_level', y='remote_ratio', data=data)\n",
    "g.fig.set_figwidth(10)\n",
    "g.fig.set_figheight(6)"
   ]
  },
  {
   "cell_type": "markdown",
   "id": "7a537a31",
   "metadata": {},
   "source": [
    "# 5. Salary in USD for each type of employment"
   ]
  },
  {
   "cell_type": "code",
   "execution_count": null,
   "id": "5652835a",
   "metadata": {},
   "outputs": [],
   "source": [
    "g = sns.catplot(x='employment_type', y='salary_in_usd', data=data)\n",
    "g.fig.set_figwidth(10)\n",
    "g.fig.set_figheight(6)"
   ]
  },
  {
   "cell_type": "code",
   "execution_count": null,
   "id": "6a8c3d4e",
   "metadata": {},
   "outputs": [],
   "source": [
    "# Insights:\n",
    "\n",
    "# What is the distribution of salaries by each emplyment type?? this plot shows exactly the same"
   ]
  },
  {
   "cell_type": "markdown",
   "id": "198ff6dc",
   "metadata": {},
   "source": [
    "# 6. Salary in USD for each level of experience "
   ]
  },
  {
   "cell_type": "code",
   "execution_count": null,
   "id": "b9dfae86",
   "metadata": {},
   "outputs": [],
   "source": [
    "g = sns.catplot(x='experience_level', y='salary_in_usd', data=data)\n",
    "g.fig.set_figwidth(10)\n",
    "g.fig.set_figheight(6) "
   ]
  },
  {
   "cell_type": "code",
   "execution_count": null,
   "id": "079a3a4b",
   "metadata": {},
   "outputs": [],
   "source": [
    "# Insights:\n",
    "\n",
    "# What is the distribution of salaries by each expereince level?? this plot shows exactly the same"
   ]
  },
  {
   "cell_type": "code",
   "execution_count": null,
   "id": "e0350364",
   "metadata": {},
   "outputs": [],
   "source": [
    "#total number of unique employees residence\n",
    "\n",
    "data['employee_residence'].nunique()"
   ]
  },
  {
   "cell_type": "markdown",
   "id": "853579fc",
   "metadata": {},
   "source": [
    "# 7. Top 5 Employee residence with highest salary paid"
   ]
  },
  {
   "cell_type": "code",
   "execution_count": null,
   "id": "061cdd8a",
   "metadata": {},
   "outputs": [],
   "source": [
    "res = data.groupby('employee_residence').salary_in_usd.mean().sort_values(ascending=False)\n",
    "res = res.head()\n",
    "plt.figure(figsize=(10,5.5))\n",
    "sns.barplot(x=res.index, y=res.values)\n",
    "plt.title('highest salary by employee residence')\n",
    "plt.ylabel('salary in USD')\n",
    "plt.show()"
   ]
  },
  {
   "cell_type": "markdown",
   "id": "7942d9cb",
   "metadata": {},
   "source": [
    "# 8. Last 5 employee residence with least salary paid\n"
   ]
  },
  {
   "cell_type": "code",
   "execution_count": null,
   "id": "0e7f8bb5",
   "metadata": {},
   "outputs": [],
   "source": [
    "res1 = data.groupby('employee_residence').salary_in_usd.mean().sort_values(ascending=True)\n",
    "res1 = res1.head()\n",
    "\n",
    "plt.figure(figsize=(10,10))\n",
    "sns.barplot(x=res1.index, y=res1.values)\n",
    "plt.title('lowest salary by employee residence')\n",
    "plt.ylabel('salary in USD')\n",
    "plt.show()"
   ]
  },
  {
   "cell_type": "markdown",
   "id": "cdb6b298",
   "metadata": {},
   "source": [
    "# 9. Salary paid by company size"
   ]
  },
  {
   "cell_type": "code",
   "execution_count": null,
   "id": "8b9e0af4",
   "metadata": {},
   "outputs": [],
   "source": [
    "plt.figure(figsize=(10,6))\n",
    "sns.stripplot(x=data['company_size'], y=data['salary_in_usd'], data=data).set_title('Salary by company size')"
   ]
  },
  {
   "cell_type": "code",
   "execution_count": null,
   "id": "e9999b71",
   "metadata": {},
   "outputs": [],
   "source": [
    "# Insights:\n",
    "\n",
    "'''What is the distribution of salaries by company size?? this plot shows exactly the same\n",
    "\n",
    "We can learn that large comapnies are paying higher than medium and smaller ones'''"
   ]
  },
  {
   "cell_type": "markdown",
   "id": "84426b98",
   "metadata": {},
   "source": [
    "# 10. Salary paid at each remote ratio\n"
   ]
  },
  {
   "cell_type": "code",
   "execution_count": null,
   "id": "5cfd2f7a",
   "metadata": {},
   "outputs": [],
   "source": [
    "plt.figure(figsize=(10,6))\n",
    "sns.stripplot(x=data['remote_ratio'], y=data['salary_in_usd'], data=data).set_title('Salary by remote ratio')"
   ]
  },
  {
   "cell_type": "code",
   "execution_count": null,
   "id": "a49adb03",
   "metadata": {},
   "outputs": [],
   "source": [
    "# Insights:\n",
    "\n",
    "'''What is the distribution of salaries by remote ration? this plot shows exactly the same\n",
    "\n",
    "We can learn that there more employees working 100% remote than full office or partial WFH.'''"
   ]
  },
  {
   "cell_type": "markdown",
   "id": "86c81a4f",
   "metadata": {},
   "source": [
    "# 11. Relative share of employees by remote work\n"
   ]
  },
  {
   "cell_type": "code",
   "execution_count": null,
   "id": "60a0ca85",
   "metadata": {},
   "outputs": [],
   "source": [
    "remo = np.array(data['remote_ratio'].value_counts(sort=True))\n",
    "\n",
    "labels = ['Full remote', 'Partial remote', 'No remote']\n",
    "\n",
    "plt.figure(figsize=(6,6))\n",
    "plt.pie(remo, labels=labels, shadow=True, frame=True)\n",
    "plt.legend()\n",
    "plt.title('employees by remote ratio')\n",
    "plt.show()"
   ]
  },
  {
   "cell_type": "code",
   "execution_count": null,
   "id": "689ab014",
   "metadata": {},
   "outputs": [],
   "source": [
    "# Insights:\n",
    "\n",
    "# We can learn that more than 50% of the employees are working remote"
   ]
  },
  {
   "cell_type": "markdown",
   "id": "c6d9edd8",
   "metadata": {},
   "source": [
    "# 12. Relative share of employees by company size\n"
   ]
  },
  {
   "cell_type": "code",
   "execution_count": null,
   "id": "d91647bd",
   "metadata": {},
   "outputs": [],
   "source": [
    "coms = data['company_size'].value_counts(sort=False)\n",
    "print(coms)\n",
    "Labels = [x for x in data['company_size'].unique()]\n",
    "print('the company size labels are: ', Labels)\n",
    "plt.figure(figsize=(6,6))\n",
    "plt.pie(coms.values, labels=Labels, shadow=True, frame=True)\n",
    "plt.legend()\n",
    "plt.title('employees by company size')\n",
    "plt.show()"
   ]
  },
  {
   "cell_type": "markdown",
   "id": "3c75e7a1",
   "metadata": {},
   "source": [
    "# 13. Pivot table of maximum salary by company size and remote ratio\n"
   ]
  },
  {
   "cell_type": "code",
   "execution_count": null,
   "id": "1407327d",
   "metadata": {},
   "outputs": [],
   "source": [
    "t2 = pd.pivot_table(data,\n",
    "                   values='salary_in_usd',\n",
    "                   index='remote_ratio',\n",
    "                   columns='company_size',\n",
    "                   aggfunc= np.max\n",
    "                   )\n",
    "pd.DataFrame(t2)"
   ]
  },
  {
   "cell_type": "code",
   "execution_count": null,
   "id": "bbee921e",
   "metadata": {},
   "outputs": [],
   "source": [
    "'''Here we can see that at large and small comany 100% remote workers are \n",
    "getting paid higher than workers with 0% remote ration. \n",
    "it is possible because senior managers are wokring remote than juniors.'''"
   ]
  },
  {
   "cell_type": "markdown",
   "id": "4d90f213",
   "metadata": {},
   "source": [
    "# 14. Numebr of employees by year of joining\n"
   ]
  },
  {
   "cell_type": "code",
   "execution_count": null,
   "id": "81dbf54c",
   "metadata": {},
   "outputs": [],
   "source": [
    "plt.figure(figsize=(7,7))\n",
    "sns.countplot(x=data['work_year'], data=data)\n",
    "plt.title('Number of employees by year of joining')\n",
    "plt.show()"
   ]
  },
  {
   "cell_type": "code",
   "execution_count": null,
   "id": "d190d2d7",
   "metadata": {},
   "outputs": [],
   "source": [
    "# Insights:\n",
    "\n",
    "# Almost 185 employees are estimated to join in 2021"
   ]
  },
  {
   "cell_type": "markdown",
   "id": "65194899",
   "metadata": {},
   "source": [
    "# 15. Number of employees by Exp. level, Employment type, Company size and Remote ratio"
   ]
  },
  {
   "cell_type": "code",
   "execution_count": null,
   "id": "6c449554",
   "metadata": {},
   "outputs": [],
   "source": [
    "columns = ['experience_level','employment_type','company_size']\n",
    "\n",
    "ex =data['experience_level'].value_counts()\n",
    "\n",
    "em =data['employment_type'].value_counts()\n",
    "\n",
    "co =data['company_size'].value_counts()\n",
    "\n",
    "re =data['remote_ratio'].map({100:'Full remote',\n",
    "                           50:'Partial remote',\n",
    "                           0:'No remote'}).value_counts()\n",
    "# PLOT A FIGURE UISNG MATPLOTILB SUBPLOTS OBJECT\n",
    "\n",
    "fig, axs = plt.subplots(2,2, figsize=(10,10))\n",
    "\n",
    "axs[0,0].bar(ex.index,ex.values)\n",
    "axs[0,0].set_xlabel('Experience level')\n",
    "axs[0,0].set_ylabel('Number of employees')\n",
    "\n",
    "\n",
    "axs[0,1].bar(em.index,em.values)\n",
    "axs[0,1].set_xlabel('Employment type')\n",
    "axs[0,1].set_ylabel('Number of employees')\n",
    "\n",
    "\n",
    "axs[1,0].bar(co.index,co.values)\n",
    "axs[1,0].set_xlabel('company size')\n",
    "axs[1,0].set_ylabel('Number of employees')\n",
    "\n",
    "\n",
    "axs[1,1].bar(re.index,re.values)\n",
    "axs[1,1].set_xlabel('Remote ratio')\n",
    "axs[1,1].set_ylabel('Number of employees')\n",
    "\n",
    "plt.suptitle('Number of employees by Exp. level, Employment type, Company size and Remote ratio')\n",
    "fig.tight_layout()\n",
    "plt.show()"
   ]
  },
  {
   "cell_type": "raw",
   "id": "0aad18a7",
   "metadata": {},
   "source": [
    " Insights:\n",
    "\n",
    "    1. If you see by expereince level medium experienced employees are most hired in data science industry.\n",
    "\n",
    "    2. Majority of jobs are full time in data science industry.\n",
    "\n",
    "    3. Large companies hire more data scientists than medium and smaller ones.\n",
    "\n",
    "    4. As we have seen, majority of emplyees are wokring remotly."
   ]
  },
  {
   "cell_type": "markdown",
   "id": "b1e74939",
   "metadata": {},
   "source": [
    "# 16. Which country has employed more employees in data science domain??\n"
   ]
  },
  {
   "cell_type": "code",
   "execution_count": null,
   "id": "e97048e3",
   "metadata": {},
   "outputs": [],
   "source": [
    "data['company_location'].value_counts().reset_index().set_index('index')"
   ]
  },
  {
   "cell_type": "raw",
   "id": "495e6b46",
   "metadata": {},
   "source": [
    " It is intereting to notice that 245 employees 108 employees are supposed to or employed by US companies"
   ]
  },
  {
   "cell_type": "markdown",
   "id": "d9ea311c",
   "metadata": {},
   "source": [
    "# 17. Top 5 countires by which employees are employed\n"
   ]
  },
  {
   "cell_type": "code",
   "execution_count": null,
   "id": "0116e3fe",
   "metadata": {},
   "outputs": [],
   "source": [
    "cl = data['company_location'].value_counts().reset_index().set_index('index').head()\n",
    "\n",
    "plt.figure(figsize=(6,6))\n",
    "plt.bar(np.array(cl.index), np.array(cl.values).reshape(-1))\n",
    "plt.ylabel('Nummber of employees at each countries')\n",
    "plt.xlabel('Company location')\n",
    "plt.title('Top 5 countires by which employees are employed')\n",
    "plt.show"
   ]
  },
  {
   "cell_type": "markdown",
   "id": "d0b9c012",
   "metadata": {},
   "source": [
    "USA is top country which has most number of jobs follwed by Germany(DE) and India(IN)"
   ]
  },
  {
   "cell_type": "code",
   "execution_count": null,
   "id": "f5c78da2",
   "metadata": {},
   "outputs": [],
   "source": [
    "data['company_location'].nunique()"
   ]
  },
  {
   "cell_type": "markdown",
   "id": "1216f53a",
   "metadata": {},
   "source": [
    "# 19. Distribution of employees by experience level and company size\n"
   ]
  },
  {
   "cell_type": "code",
   "execution_count": null,
   "id": "dfeca699",
   "metadata": {},
   "outputs": [],
   "source": [
    "def swarm_plot(x, y, hue, data=data):\n",
    "    plt.figure(figsize=(6,6))\n",
    "    sns.swarmplot(x=x, y=y, hue=hue,data=data)\n",
    "    plt.show\n",
    "    \n",
    "plt.figure(figsize=(8,8))\n",
    "sns.swarmplot(x=data['experience_level'],\n",
    "              y=data['salary_in_usd'],\n",
    "              hue=data['company_size'],\n",
    "              data=data)\n",
    "plt.title(\"Distribution of employees by experience level and company size\")\n",
    "plt.show\n"
   ]
  },
  {
   "cell_type": "code",
   "execution_count": null,
   "id": "cc4fc711",
   "metadata": {},
   "outputs": [],
   "source": []
  }
 ],
 "metadata": {
  "kernelspec": {
   "display_name": "Python 3 (ipykernel)",
   "language": "python",
   "name": "python3"
  },
  "language_info": {
   "codemirror_mode": {
    "name": "ipython",
    "version": 3
   },
   "file_extension": ".py",
   "mimetype": "text/x-python",
   "name": "python",
   "nbconvert_exporter": "python",
   "pygments_lexer": "ipython3",
   "version": "3.9.13"
  }
 },
 "nbformat": 4,
 "nbformat_minor": 5
}
